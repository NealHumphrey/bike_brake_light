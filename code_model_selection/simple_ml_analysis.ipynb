{
 "cells": [
  {
   "cell_type": "code",
   "execution_count": 1,
   "metadata": {
    "collapsed": true
   },
   "outputs": [],
   "source": [
    "import sklearn\n",
    "import os\n",
    "import numpy as np\n",
    "import pandas as pd\n"
   ]
  },
  {
   "cell_type": "code",
   "execution_count": 2,
   "metadata": {
    "collapsed": true
   },
   "outputs": [],
   "source": [
    "# Upsample the minority class (brakes applied)\n",
    "from sklearn.utils import resample\n",
    "\n",
    "def upsample(input_df,col=\"Brake\",majority_value=0):\n",
    "    '''\n",
    "    Creates a balanced data set from the dataframe provided to it, using the column_name\n",
    "    '''    \n",
    "    #Split by row based on the data class\n",
    "    df_majority = input_df[input_df[col]==majority_value]\n",
    "    df_minority = input_df[input_df[col]!=majority_value]\n",
    "    \n",
    "    df_minority_upsampled = resample(df_minority,\n",
    "                                  replace=True,\n",
    "                                  n_samples=df_majority.shape[0],\n",
    "                                  random_state=444)\n",
    "    \n",
    "    df_upsampled = pd.concat([df_majority, df_minority_upsampled])\n",
    "\n",
    "    #print(\"Before upsampling:\\n\",df.Brake.value_counts())\n",
    "    #print(\"After upsampling:\\n\",df_upsampled.Brake.value_counts())\n",
    "    #print(df_upsampled.describe())\n",
    "    \n",
    "    return df_upsampled\n"
   ]
  },
  {
   "cell_type": "code",
   "execution_count": 3,
   "metadata": {
    "collapsed": false
   },
   "outputs": [
    {
     "data": {
      "text/html": [
       "<div>\n",
       "<table border=\"1\" class=\"dataframe\">\n",
       "  <thead>\n",
       "    <tr style=\"text-align: right;\">\n",
       "      <th></th>\n",
       "      <th>X</th>\n",
       "      <th>Y</th>\n",
       "      <th>Z</th>\n",
       "      <th>Brake</th>\n",
       "    </tr>\n",
       "  </thead>\n",
       "  <tbody>\n",
       "    <tr>\n",
       "      <th>0</th>\n",
       "      <td>13</td>\n",
       "      <td>59</td>\n",
       "      <td>67</td>\n",
       "      <td>0</td>\n",
       "    </tr>\n",
       "    <tr>\n",
       "      <th>1</th>\n",
       "      <td>12</td>\n",
       "      <td>61</td>\n",
       "      <td>66</td>\n",
       "      <td>0</td>\n",
       "    </tr>\n",
       "    <tr>\n",
       "      <th>2</th>\n",
       "      <td>14</td>\n",
       "      <td>61</td>\n",
       "      <td>65</td>\n",
       "      <td>0</td>\n",
       "    </tr>\n",
       "    <tr>\n",
       "      <th>3</th>\n",
       "      <td>16</td>\n",
       "      <td>60</td>\n",
       "      <td>64</td>\n",
       "      <td>0</td>\n",
       "    </tr>\n",
       "    <tr>\n",
       "      <th>4</th>\n",
       "      <td>15</td>\n",
       "      <td>60</td>\n",
       "      <td>64</td>\n",
       "      <td>0</td>\n",
       "    </tr>\n",
       "  </tbody>\n",
       "</table>\n",
       "</div>"
      ],
      "text/plain": [
       "    X   Y   Z  Brake\n",
       "0  13  59  67      0\n",
       "1  12  61  66      0\n",
       "2  14  61  65      0\n",
       "3  16  60  64      0\n",
       "4  15  60  64      0"
      ]
     },
     "execution_count": 3,
     "metadata": {},
     "output_type": "execute_result"
    }
   ],
   "source": [
    "data_path = \"data/2018-01-29.csv\"\n",
    "\n",
    "# Get our 3 target columns = accel in each direction plus boolean (1/0) for the class braking/not braking\n",
    "df = pd.read_csv(data_path, sep=\",\",header=0)\n",
    "df = df.iloc[:,3:] #don't use first two columns\n",
    "df.head()"
   ]
  },
  {
   "cell_type": "code",
   "execution_count": 4,
   "metadata": {
    "collapsed": false
   },
   "outputs": [
    {
     "name": "stderr",
     "output_type": "stream",
     "text": [
      "C:\\Users\\humph\\Anaconda3\\lib\\site-packages\\sklearn\\cross_validation.py:44: DeprecationWarning: This module was deprecated in version 0.18 in favor of the model_selection module into which all the refactored classes and functions are moved. Also note that the interface of the new CV iterators are different from that of this module. This module will be removed in 0.20.\n",
      "  \"This module will be removed in 0.20.\", DeprecationWarning)\n"
     ]
    }
   ],
   "source": [
    "from sklearn import metrics\n",
    "from sklearn import cross_validation\n",
    "from sklearn.cross_validation import KFold\n",
    "from sklearn.metrics import confusion_matrix\n",
    "\n",
    "from sklearn.svm import SVC\n",
    "from sklearn.neighbors import KNeighborsClassifier\n",
    "from sklearn.ensemble import RandomForestClassifier\n",
    "\n",
    "\n",
    "def fit_and_evaluate(df_data,model,label):\n",
    "    \n",
    "    #setup output variables\n",
    "    scores={'precision':[],'recall':[],'accuracy':[], 'f1':[]}\n",
    "    cm_list=[]\n",
    "    cm=np.array([[0,0],[0,0]])\n",
    "    \n",
    "    #Perform cross validation training\n",
    "    for train, test in KFold(df_data.shape[0], n_folds=12,shuffle=True):\n",
    "        df_train, df_test = df_data.iloc[train], df_data.iloc[test]\n",
    "        \n",
    "        df_train_upsampled = upsample(df_train,col=\"Brake\",majority_value=0)\n",
    "        \n",
    "        X_train, y_train = df_train_upsampled.iloc[:,:-1], df_train_upsampled.iloc[:,-1]\n",
    "        X_test, y_test = df_test.iloc[:,:-1], df_test.iloc[:,-1]\n",
    "        \n",
    "        estimator = model()\n",
    "        estimator.fit(X_train, y_train)\n",
    "        \n",
    "        expected  = y_test\n",
    "        predicted = estimator.predict(X_test)\n",
    "        \n",
    "        \n",
    "        \n",
    "        \n",
    "        # Append our scores to the tracker\n",
    "        scores['precision'].append(metrics.precision_score(expected, predicted, average=\"weighted\"))\n",
    "        scores['recall'].append(metrics.recall_score(expected, predicted, average=\"weighted\"))\n",
    "        scores['accuracy'].append(metrics.accuracy_score(expected, predicted))\n",
    "        scores['f1'].append(metrics.f1_score(expected, predicted, average=\"weighted\"))\n",
    "        \n",
    "        cm_list.append(confusion_matrix(expected,predicted))\n",
    "    \n",
    "    for c in cm_list:\n",
    "        cm = np.add(cm,cm_list[0])\n",
    "    \n",
    "    \n",
    "    print(label)\n",
    "    print('-----------------')\n",
    "    print(pd.DataFrame(scores).mean())\n",
    "    print(cm)\n",
    "    \n",
    "    return model,scores,cm"
   ]
  },
  {
   "cell_type": "code",
   "execution_count": 5,
   "metadata": {
    "collapsed": false
   },
   "outputs": [
    {
     "name": "stdout",
     "output_type": "stream",
     "text": [
      "KN classifier\n",
      "-----------------\n",
      "accuracy     0.758045\n",
      "f1           0.794588\n",
      "precision    0.863603\n",
      "recall       0.758045\n",
      "dtype: float64\n",
      "[[30636  8580]\n",
      " [ 1932  3732]]\n"
     ]
    }
   ],
   "source": [
    "model, scores, cm = fit_and_evaluate(df,KNeighborsClassifier,\"KN classifier\")"
   ]
  },
  {
   "cell_type": "code",
   "execution_count": null,
   "metadata": {
    "collapsed": false
   },
   "outputs": [],
   "source": []
  },
  {
   "cell_type": "code",
   "execution_count": 8,
   "metadata": {
    "collapsed": false
   },
   "outputs": [
    {
     "name": "stdout",
     "output_type": "stream",
     "text": [
      "RandomForestClassifier\n",
      "-----------------\n",
      "accuracy     0.798672\n",
      "f1           0.820543\n",
      "precision    0.853771\n",
      "recall       0.798672\n",
      "dtype: float64\n",
      "[[32604  6840]\n",
      " [ 2628  2808]]\n"
     ]
    }
   ],
   "source": [
    "model, scores, cm = fit_and_evaluate(df,RandomForestClassifier,\"RandomForestClassifier\")"
   ]
  },
  {
   "cell_type": "code",
   "execution_count": 9,
   "metadata": {
    "collapsed": false
   },
   "outputs": [
    {
     "name": "stdout",
     "output_type": "stream",
     "text": [
      "SVC\n",
      "-----------------\n",
      "accuracy     0.788911\n",
      "f1           0.818029\n",
      "precision    0.871922\n",
      "recall       0.788911\n",
      "dtype: float64\n",
      "[[31944  7272]\n",
      " [ 1884  3780]]\n"
     ]
    }
   ],
   "source": [
    "model, scores, cm = fit_and_evaluate(df,SVC,\"SVC\")"
   ]
  },
  {
   "cell_type": "code",
   "execution_count": null,
   "metadata": {
    "collapsed": true
   },
   "outputs": [],
   "source": []
  }
 ],
 "metadata": {
  "anaconda-cloud": {},
  "kernelspec": {
   "display_name": "Python [conda root]",
   "language": "python",
   "name": "conda-root-py"
  },
  "language_info": {
   "codemirror_mode": {
    "name": "ipython",
    "version": 3
   },
   "file_extension": ".py",
   "mimetype": "text/x-python",
   "name": "python",
   "nbconvert_exporter": "python",
   "pygments_lexer": "ipython3",
   "version": "3.5.2"
  }
 },
 "nbformat": 4,
 "nbformat_minor": 1
}
