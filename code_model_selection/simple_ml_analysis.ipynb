{
 "cells": [
  {
   "cell_type": "code",
   "execution_count": 5,
   "metadata": {
    "collapsed": true
   },
   "outputs": [],
   "source": [
    "import sklearn\n",
    "import os\n",
    "import pandas as pd"
   ]
  },
  {
   "cell_type": "code",
   "execution_count": 6,
   "metadata": {
    "collapsed": false
   },
   "outputs": [
    {
     "name": "stdout",
     "output_type": "stream",
     "text": [
      "The autoreload extension is already loaded. To reload it, use:\n",
      "  %reload_ext autoreload\n"
     ]
    }
   ],
   "source": [
    "%load_ext autoreload\n",
    "%autoreload 2\n",
    "from fit_and_evaluate import fit_and_evaluate\n",
    "from create_outputs import create_comparison_file\n",
    "from transformations import upsample_data"
   ]
  },
  {
   "cell_type": "markdown",
   "metadata": {
    "collapsed": false
   },
   "source": [
    "# Get the actual data\n"
   ]
  },
  {
   "cell_type": "code",
   "execution_count": 7,
   "metadata": {
    "collapsed": false
   },
   "outputs": [
    {
     "data": {
      "text/html": [
       "<div>\n",
       "<table border=\"1\" class=\"dataframe\">\n",
       "  <thead>\n",
       "    <tr style=\"text-align: right;\">\n",
       "      <th></th>\n",
       "      <th>X</th>\n",
       "      <th>Y</th>\n",
       "      <th>Z</th>\n",
       "      <th>Brake</th>\n",
       "    </tr>\n",
       "  </thead>\n",
       "  <tbody>\n",
       "    <tr>\n",
       "      <th>0</th>\n",
       "      <td>13</td>\n",
       "      <td>59</td>\n",
       "      <td>67</td>\n",
       "      <td>0</td>\n",
       "    </tr>\n",
       "    <tr>\n",
       "      <th>1</th>\n",
       "      <td>12</td>\n",
       "      <td>61</td>\n",
       "      <td>66</td>\n",
       "      <td>0</td>\n",
       "    </tr>\n",
       "    <tr>\n",
       "      <th>2</th>\n",
       "      <td>14</td>\n",
       "      <td>61</td>\n",
       "      <td>65</td>\n",
       "      <td>0</td>\n",
       "    </tr>\n",
       "    <tr>\n",
       "      <th>3</th>\n",
       "      <td>16</td>\n",
       "      <td>60</td>\n",
       "      <td>64</td>\n",
       "      <td>0</td>\n",
       "    </tr>\n",
       "    <tr>\n",
       "      <th>4</th>\n",
       "      <td>15</td>\n",
       "      <td>60</td>\n",
       "      <td>64</td>\n",
       "      <td>0</td>\n",
       "    </tr>\n",
       "  </tbody>\n",
       "</table>\n",
       "</div>"
      ],
      "text/plain": [
       "    X   Y   Z  Brake\n",
       "0  13  59  67      0\n",
       "1  12  61  66      0\n",
       "2  14  61  65      0\n",
       "3  16  60  64      0\n",
       "4  15  60  64      0"
      ]
     },
     "execution_count": 7,
     "metadata": {},
     "output_type": "execute_result"
    }
   ],
   "source": [
    "data_path = \"data/2018-01-29.csv\"\n",
    "\n",
    "# Get our 3 target columns = accel in each direction plus boolean (1/0) for the class braking/not braking\n",
    "data = pd.read_csv(data_path, sep=\",\",header=0)\n",
    "data = data.iloc[:,3:] #don't use first two columns\n",
    "data.head()"
   ]
  },
  {
   "cell_type": "markdown",
   "metadata": {
    "collapsed": false
   },
   "source": [
    "# Train various models and compare them to a separate dataset"
   ]
  },
  {
   "cell_type": "code",
   "execution_count": 16,
   "metadata": {
    "collapsed": false
   },
   "outputs": [
    {
     "name": "stdout",
     "output_type": "stream",
     "text": [
      "KN Classifier\n",
      "-----------------\n",
      "f1           0.795723\n",
      "precision    0.864949\n",
      "recall       0.759360\n",
      "dtype: float64\n",
      "--Confusion Matrix (k-fold aggregate)--\n",
      "[[30580  8968]\n",
      " [ 1830  3494]]\n",
      "--Confusion Matrix (test data)--\n",
      "[[8173 3044]\n",
      " [ 310  635]]\n"
     ]
    }
   ],
   "source": [
    "from sklearn.neighbors import KNeighborsClassifier\n",
    "\n",
    "model, scores, cm = fit_and_evaluate(\n",
    "    model = KNeighborsClassifier(),\n",
    "    label = \"KN Classifier\",\n",
    "    input_data = data,\n",
    "    target_column=\"Brake\",\n",
    "    upsample = True\n",
    "    )\n",
    "\n",
    "create_comparison_file(model,'kn_model_comparison.csv')"
   ]
  },
  {
   "cell_type": "code",
   "execution_count": 15,
   "metadata": {
    "collapsed": false
   },
   "outputs": [
    {
     "name": "stdout",
     "output_type": "stream",
     "text": [
      "KN Classifier\n",
      "-----------------\n",
      "f1           0.861877\n",
      "precision    0.854789\n",
      "recall       0.876471\n",
      "dtype: float64\n",
      "--Confusion Matrix (k-fold aggregate)--\n",
      "[[37887  1661]\n",
      " [ 3882  1442]]\n",
      "--Confusion Matrix (test data)--\n",
      "[[10543   674]\n",
      " [  656   289]]\n"
     ]
    }
   ],
   "source": [
    "from sklearn.neighbors import KNeighborsClassifier\n",
    "\n",
    "model, scores, cm = fit_and_evaluate(\n",
    "    model = KNeighborsClassifier(),\n",
    "    label = \"KN Classifier\",\n",
    "    input_data = data,\n",
    "    target_column=\"Brake\",\n",
    "    upsample = False\n",
    "    )\n",
    "\n",
    "create_comparison_file(model,'kn_model_comparison_no_upsample.csv')"
   ]
  },
  {
   "cell_type": "code",
   "execution_count": 12,
   "metadata": {
    "collapsed": false
   },
   "outputs": [
    {
     "name": "stdout",
     "output_type": "stream",
     "text": [
      "KN Classifier\n",
      "-----------------\n",
      "f1           0.820808\n",
      "precision    0.853181\n",
      "recall       0.799296\n",
      "dtype: float64\n",
      "--Confusion Matrix (k-fold aggregate)--\n",
      "[[33127  6421]\n",
      " [ 2585  2739]]\n",
      "--Confusion Matrix (test data)--\n",
      "[[8988 2229]\n",
      " [ 456  489]]\n"
     ]
    }
   ],
   "source": [
    "from sklearn.ensemble import RandomForestClassifier\n",
    "\n",
    "model, scores, cm = fit_and_evaluate(\n",
    "    model = RandomForestClassifier(),\n",
    "    label = \"Random Forest\",\n",
    "    input_data = data,\n",
    "    target_column=\"Brake\",\n",
    "    upsample = True\n",
    "    )\n",
    "\n",
    "create_comparison_file(model,'kn_model_comparison.csv')"
   ]
  },
  {
   "cell_type": "code",
   "execution_count": null,
   "metadata": {
    "collapsed": false
   },
   "outputs": [],
   "source": []
  },
  {
   "cell_type": "code",
   "execution_count": null,
   "metadata": {
    "collapsed": false
   },
   "outputs": [],
   "source": []
  },
  {
   "cell_type": "code",
   "execution_count": null,
   "metadata": {
    "collapsed": false
   },
   "outputs": [],
   "source": []
  },
  {
   "cell_type": "code",
   "execution_count": null,
   "metadata": {
    "collapsed": false
   },
   "outputs": [],
   "source": []
  },
  {
   "cell_type": "code",
   "execution_count": null,
   "metadata": {
    "collapsed": true
   },
   "outputs": [],
   "source": []
  }
 ],
 "metadata": {
  "anaconda-cloud": {},
  "kernelspec": {
   "display_name": "Python [conda root]",
   "language": "python",
   "name": "conda-root-py"
  },
  "language_info": {
   "codemirror_mode": {
    "name": "ipython",
    "version": 3
   },
   "file_extension": ".py",
   "mimetype": "text/x-python",
   "name": "python",
   "nbconvert_exporter": "python",
   "pygments_lexer": "ipython3",
   "version": "3.5.2"
  }
 },
 "nbformat": 4,
 "nbformat_minor": 1
}
